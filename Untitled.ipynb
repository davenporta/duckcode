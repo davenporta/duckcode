{
 "cells": [
  {
   "cell_type": "code",
   "execution_count": 79,
   "metadata": {
    "collapsed": false
   },
   "outputs": [],
   "source": [
    "from pydub import AudioSegment\n",
    "from pydub.playback import play\n",
    "\n",
    "dot = AudioSegment.from_wav(\"dot2.wav\")\n",
    "dash = AudioSegment.from_wav(\"dash2.wav\")\n",
    "cspace = AudioSegment.from_wav(\"spacer2.wav\")\n",
    "\n",
    "sound = {'.': dot, '-': dash, ' ': cspace}\n",
    "\n",
    "code = {'A': '.-',     'B': '-...',   'C': '-.-.', \n",
    "        'D': '-..',    'E': '.',      'F': '..-.',\n",
    "        'G': '--.',    'H': '....',   'I': '..',\n",
    "        'J': '.---',   'K': '-.-',    'L': '.-..',\n",
    "        'M': '--',     'N': '-.',     'O': '---',\n",
    "        'P': '.--.',   'Q': '--.-',   'R': '.-.',\n",
    "        'S': '...',    'T': '-',      'U': '..-',\n",
    "        'V': '...-',   'W': '.--',    'X': '-..-',\n",
    "        'Y': '-.--',   'Z': '--..',\n",
    "\n",
    "        '0': '-----',  '1': '.----',  '2': '..---',\n",
    "        '3': '...--',  '4': '....-',  '5': '.....',\n",
    "        '6': '-....',  '7': '--...',  '8': '---..',\n",
    "        '9': '----.', \n",
    "        \n",
    "        ' ': ' '}\n",
    "\n",
    "def to_morse(s):\n",
    "    phrase = ' '.join(CODE[i.upper()] for i in s)\n",
    "    #print(phrase)\n",
    "    queue = [sound[c] for c in phrase]\n",
    "    out = queue.pop(0)\n",
    "    for char in queue:\n",
    "        out += char\n",
    "    play(out)"
   ]
  },
  {
   "cell_type": "code",
   "execution_count": 78,
   "metadata": {
    "collapsed": false
   },
   "outputs": [
    {
     "name": "stdout",
     "output_type": "stream",
     "text": [
      "-.. ..- -.-. -.- ...   ... ..- -.-. -.-\n"
     ]
    }
   ],
   "source": [
    "to_morse(\"ducks suck\")"
   ]
  },
  {
   "cell_type": "code",
   "execution_count": null,
   "metadata": {
    "collapsed": true
   },
   "outputs": [],
   "source": []
  }
 ],
 "metadata": {
  "kernelspec": {
   "display_name": "Python [python36]",
   "language": "python",
   "name": "Python [python36]"
  },
  "language_info": {
   "codemirror_mode": {
    "name": "ipython",
    "version": 3
   },
   "file_extension": ".py",
   "mimetype": "text/x-python",
   "name": "python",
   "nbconvert_exporter": "python",
   "pygments_lexer": "ipython3",
   "version": "3.6.1"
  }
 },
 "nbformat": 4,
 "nbformat_minor": 2
}
